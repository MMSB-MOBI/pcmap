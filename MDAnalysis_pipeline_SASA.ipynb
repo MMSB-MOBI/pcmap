{
 "cells": [
  {
   "cell_type": "code",
   "execution_count": 1,
   "id": "3bcd20c4-630c-42ff-851f-dfc19e3a480d",
   "metadata": {},
   "outputs": [],
   "source": [
    "import MDAnalysis as md\n",
    "import numpy as np\n",
    "import os\n",
    "import re"
   ]
  },
  {
   "cell_type": "code",
   "execution_count": 2,
   "id": "a8c51b7a-f3c3-4f9e-a2f6-ebbf12e1eee3",
   "metadata": {},
   "outputs": [
    {
     "data": {
      "text/plain": [
       "'/data1/lisbeth/SPC/CG_SEP/BOUND'"
      ]
     },
     "execution_count": 2,
     "metadata": {},
     "output_type": "execute_result"
    }
   ],
   "source": [
    "pwd"
   ]
  },
  {
   "cell_type": "code",
   "execution_count": 83,
   "id": "113ab5a3-6a4b-4896-93e5-680f72517a78",
   "metadata": {},
   "outputs": [],
   "source": [
    "#AA_complex_bound_dir = '/data1/lisbeth/SPC/CG_NEW/PRODUCTION/BOUND/'\n",
    "CG_complex_bound_dir = '/data1/lisbeth/SPC/CG_SEP/BOUND/'"
   ]
  },
  {
   "cell_type": "markdown",
   "id": "221bdef6-1c6a-4e15-8d4b-4093430305e5",
   "metadata": {},
   "source": [
    "os.chdir(AA_complex_bound_dir)\n",
    "u = md.Universe('PDB/SPC_L11_AA_1_memb_prot.pdb','XTC/SPC_L11_AA_1_whole_fit.xtc')"
   ]
  },
  {
   "cell_type": "code",
   "execution_count": 23,
   "id": "8e2f7364-7874-47cf-ba23-8a01abb20d38",
   "metadata": {},
   "outputs": [],
   "source": [
    "os.chdir(CG_complex_bound_dir)"
   ]
  },
  {
   "cell_type": "markdown",
   "id": "8e040605-6bbc-430d-be90-b4493a852364",
   "metadata": {},
   "source": [
    "#### Load in the coarse grained simulation given a tpr/gro/pdb and the corresponding xtc file "
   ]
  },
  {
   "cell_type": "code",
   "execution_count": 70,
   "id": "d37e5e9c-2688-4b30-9f17-44637e11f5b4",
   "metadata": {},
   "outputs": [],
   "source": [
    "## Relative long simulation, can take time to load in\n",
    "ucg = md.Universe('TPR/SPC_L11_CG_2.tpr', 'XTC/Before_Corrections/SPC_L11_CG_1_whole.xtc')"
   ]
  },
  {
   "cell_type": "code",
   "execution_count": 75,
   "id": "8cd25807-8273-4af9-afad-e40fc5397492",
   "metadata": {},
   "outputs": [],
   "source": [
    "number_of_frames = ucg.trajectory.n_frames"
   ]
  },
  {
   "cell_type": "code",
   "execution_count": 76,
   "id": "cbc45997-1fdc-401e-95cf-f20e883cffa0",
   "metadata": {},
   "outputs": [
    {
     "data": {
      "text/plain": [
       "1000001"
      ]
     },
     "execution_count": 76,
     "metadata": {},
     "output_type": "execute_result"
    }
   ],
   "source": [
    "number_of_frames #Enough frames? "
   ]
  },
  {
   "cell_type": "markdown",
   "id": "734e5590-8e23-4952-a5e8-c673f83f74db",
   "metadata": {},
   "source": [
    "### To iterate over a trajectory (either atomistic or coarse-grained, dosent matter here) :"
   ]
  },
  {
   "cell_type": "code",
   "execution_count": null,
   "id": "1533a16a-6982-4ade-8e6d-516c2433af89",
   "metadata": {},
   "outputs": [],
   "source": [
    "for ts in ucg.trajectory:\n",
    "    print (\"DO STUFF\")\n",
    "    lipid = ucg.select_atoms('resname POPC') #Make an atom selection\n",
    "    coor = lipid.positions #Get X,Y,Z coordinates for the atoms given the current frame"
   ]
  },
  {
   "cell_type": "markdown",
   "id": "7faefb29-c870-4ee5-86ed-cbe054d5486d",
   "metadata": {},
   "source": [
    "#### The trajectory can be splitted like so:"
   ]
  },
  {
   "cell_type": "code",
   "execution_count": null,
   "id": "c4364f04-3a71-4450-a449-12654ae687b5",
   "metadata": {},
   "outputs": [],
   "source": [
    "for ts in ucg.trajectory[:number_of_frames/2]:\n",
    "    print (\"DO STUFF\")"
   ]
  },
  {
   "cell_type": "code",
   "execution_count": null,
   "id": "2d418bbf-5241-4e0a-aa9d-f5071445a1d1",
   "metadata": {},
   "outputs": [],
   "source": [
    "for ts in ucg.trajectory[number_of_frames/2:]:\n",
    "    print (\"DO STUFF\")\n",
    "\n",
    "## Essentially it works like a numpy array you can index/stride"
   ]
  },
  {
   "cell_type": "markdown",
   "id": "90d5c5fd-4868-43db-93d9-0fa7cf78d846",
   "metadata": {},
   "source": [
    "###### Functions"
   ]
  },
  {
   "cell_type": "code",
   "execution_count": 72,
   "id": "3da4635f-5e97-4bd2-9dd3-0efe5babbd9d",
   "metadata": {
    "tags": []
   },
   "outputs": [],
   "source": [
    "def get_dict_types(sel):\n",
    "    '''Given an atom selection from MDAnalysis, \n",
    "    it will output a dictionary contaning all the beadtypes\n",
    "    with their corresponding vdw radii.'''\n",
    "    D = {}\n",
    "    for idx, i in enumerate(sel.types):\n",
    "        name = sel.names[idx]\n",
    "        if re.match('^T', i):\n",
    "            radii = 0.191\n",
    "        elif re.match('^S', i):\n",
    "            radii = 0.230\n",
    "        else:\n",
    "            radii = 0.264\n",
    "        D[i] = radii\n",
    "    return D\n",
    "\n",
    "def get_dict_names(sel):\n",
    "    '''Given an atom selection from MDAnalysis, \n",
    "    it will output a dictionary contaning all the unique beadnames\n",
    "    with their corresponding vdw radii.\n",
    "    NB! This is not great, if the same beadname is used with different\n",
    "    beadtypes, hence different vdw radii'''\n",
    "    D = {}\n",
    "    for idx, i in enumerate(sel.types):\n",
    "        name = sel.names[idx]\n",
    "        if re.match('^T', i):\n",
    "            radii = 0.191\n",
    "        elif re.match('^S', i):\n",
    "            radii = 0.230\n",
    "        else:\n",
    "            radii = 0.264\n",
    "        D[name] = radii\n",
    "    return D"
   ]
  },
  {
   "cell_type": "markdown",
   "id": "e1a9d079-b608-4f96-a5b4-560f7d4a0029",
   "metadata": {},
   "source": [
    "## Generating dictionary for the protein residues. For each resname you will have a dictionary with the beadnames and corresponding vdw radii"
   ]
  },
  {
   "cell_type": "code",
   "execution_count": 34,
   "id": "2eeabeb6-b60d-4151-a72f-329a15cc68bb",
   "metadata": {},
   "outputs": [],
   "source": [
    "prot = ucg.select_atoms('name BB SC1 SC2 SC3 SC4 SC5')"
   ]
  },
  {
   "cell_type": "code",
   "execution_count": 64,
   "id": "5466686f-60fa-4096-9c11-00f3a40ba35a",
   "metadata": {},
   "outputs": [],
   "source": [
    "Dict = {}\n",
    "for res in np.unique(prot.resnames):\n",
    "    R = prot.select_atoms('resname {}'.format(res))\n",
    "    Dict[res] = get_dict_names(R)"
   ]
  },
  {
   "cell_type": "code",
   "execution_count": 67,
   "id": "c5dcbec8-aec8-4993-9c17-abc11cb906fb",
   "metadata": {},
   "outputs": [
    {
     "data": {
      "text/plain": [
       "{'ALA': {'BB': 0.23, 'SC1': 0.191},\n",
       " 'ARG': {'BB': 0.264, 'SC1': 0.23, 'SC2': 0.23},\n",
       " 'ASN': {'BB': 0.264, 'SC1': 0.23},\n",
       " 'ASP': {'BB': 0.264, 'SC1': 0.23},\n",
       " 'CYS': {'BB': 0.264, 'SC1': 0.191},\n",
       " 'GLN': {'BB': 0.264, 'SC1': 0.264},\n",
       " 'GLU': {'BB': 0.264, 'SC1': 0.264},\n",
       " 'GLY': {'BB': 0.264},\n",
       " 'HIS': {'BB': 0.264, 'SC1': 0.191, 'SC2': 0.191, 'SC3': 0.191},\n",
       " 'ILE': {'BB': 0.264, 'SC1': 0.23},\n",
       " 'LEU': {'BB': 0.264, 'SC1': 0.23},\n",
       " 'LYS': {'BB': 0.264, 'SC1': 0.23, 'SC2': 0.23},\n",
       " 'MET': {'BB': 0.264, 'SC1': 0.264},\n",
       " 'PHE': {'BB': 0.264, 'SC1': 0.23, 'SC2': 0.191, 'SC3': 0.191},\n",
       " 'PRO': {'BB': 0.23, 'SC1': 0.23},\n",
       " 'SER': {'BB': 0.264, 'SC1': 0.191},\n",
       " 'THR': {'BB': 0.264, 'SC1': 0.23},\n",
       " 'TRP': {'BB': 0.264,\n",
       "  'SC1': 0.191,\n",
       "  'SC2': 0.191,\n",
       "  'SC3': 0.191,\n",
       "  'SC4': 0.191,\n",
       "  'SC5': 0.191},\n",
       " 'TYR': {'BB': 0.264, 'SC1': 0.191, 'SC2': 0.191, 'SC3': 0.191, 'SC4': 0.191},\n",
       " 'VAL': {'BB': 0.23, 'SC1': 0.23}}"
      ]
     },
     "execution_count": 67,
     "metadata": {},
     "output_type": "execute_result"
    }
   ],
   "source": [
    "Dict"
   ]
  },
  {
   "cell_type": "markdown",
   "id": "acf3eb54-ab1b-49ab-9c35-bb87bf41b6b9",
   "metadata": {},
   "source": [
    "#### Example for a lipid, given you have loaded a tpr file instead of a gro or pdb"
   ]
  },
  {
   "cell_type": "code",
   "execution_count": 73,
   "id": "68e0e423-a552-4df2-9e68-13c88bfcc89a",
   "metadata": {},
   "outputs": [],
   "source": [
    "lipid = ucg.select_atoms('resname POPC')"
   ]
  },
  {
   "cell_type": "code",
   "execution_count": 77,
   "id": "f9cadf2e-ef73-416c-b9d8-5d78f62bd2ad",
   "metadata": {},
   "outputs": [
    {
     "data": {
      "text/plain": [
       "{'Q1': 0.264,\n",
       " 'Q5': 0.264,\n",
       " 'SN4a': 0.23,\n",
       " 'N4a': 0.264,\n",
       " 'C1': 0.264,\n",
       " 'C4h': 0.264}"
      ]
     },
     "execution_count": 77,
     "metadata": {},
     "output_type": "execute_result"
    }
   ],
   "source": [
    "get_dict_types(lipid)"
   ]
  },
  {
   "cell_type": "markdown",
   "id": "5e528749-1a41-4a7e-9e29-49e880f79042",
   "metadata": {
    "tags": []
   },
   "source": [
    "#### If you want to generate a dict of the entire system, protein, lipid, small molecules:"
   ]
  },
  {
   "cell_type": "code",
   "execution_count": 78,
   "id": "f7b9cc5f-221a-4006-a26e-7cfab45c0b43",
   "metadata": {},
   "outputs": [],
   "source": [
    "sel = ucg.select_atoms('all')"
   ]
  },
  {
   "cell_type": "code",
   "execution_count": 80,
   "id": "c24f99dd-a13c-4363-a6b1-93791d88d5f9",
   "metadata": {},
   "outputs": [
    {
     "data": {
      "text/plain": [
       "array(['ALA', 'ARG', 'ASN', 'ASP', 'CHOL', 'CYS', 'GLN', 'GLU', 'GLY',\n",
       "       'HIS', 'ILE', 'ION', 'LEU', 'LYS', 'MET', 'PHE', 'POPC', 'POPE',\n",
       "       'POPS', 'PRO', 'SAP2', 'SER', 'THR', 'TRP', 'TYR', 'VAL', 'W'],\n",
       "      dtype=object)"
      ]
     },
     "execution_count": 80,
     "metadata": {},
     "output_type": "execute_result"
    }
   ],
   "source": [
    "np.unique(sel.resnames)"
   ]
  },
  {
   "cell_type": "code",
   "execution_count": 81,
   "id": "233b2470-885f-4833-aa1f-d30a68e4802c",
   "metadata": {},
   "outputs": [],
   "source": [
    "Dict_all = {}\n",
    "for res in np.unique(sel.resnames):\n",
    "    s = sel.select_atoms('resname {}'.format(res))\n",
    "    Dict_all[res] = get_dict_names(s)"
   ]
  },
  {
   "cell_type": "code",
   "execution_count": 82,
   "id": "ad6d993d-5f38-4be3-83e5-68fd2a0d476f",
   "metadata": {
    "tags": []
   },
   "outputs": [
    {
     "data": {
      "text/plain": [
       "{'ALA': {'BB': 0.23, 'SC1': 0.191},\n",
       " 'ARG': {'BB': 0.264, 'SC1': 0.23, 'SC2': 0.23},\n",
       " 'ASN': {'BB': 0.264, 'SC1': 0.23},\n",
       " 'ASP': {'BB': 0.264, 'SC1': 0.23},\n",
       " 'CHOL': {'ROH': 0.23,\n",
       "  'R1': 0.23,\n",
       "  'R2': 0.23,\n",
       "  'R3': 0.23,\n",
       "  'R4': 0.23,\n",
       "  'R5': 0.23,\n",
       "  'C1': 0.23,\n",
       "  'C2': 0.264},\n",
       " 'CYS': {'BB': 0.264, 'SC1': 0.191},\n",
       " 'GLN': {'BB': 0.264, 'SC1': 0.264},\n",
       " 'GLU': {'BB': 0.264, 'SC1': 0.264},\n",
       " 'GLY': {'BB': 0.264},\n",
       " 'HIS': {'BB': 0.264, 'SC1': 0.191, 'SC2': 0.191, 'SC3': 0.191},\n",
       " 'ILE': {'BB': 0.264, 'SC1': 0.23},\n",
       " 'ION': {'NA': 0.191, 'CL': 0.191},\n",
       " 'LEU': {'BB': 0.264, 'SC1': 0.23},\n",
       " 'LYS': {'BB': 0.264, 'SC1': 0.23, 'SC2': 0.23},\n",
       " 'MET': {'BB': 0.264, 'SC1': 0.264},\n",
       " 'PHE': {'BB': 0.264, 'SC1': 0.23, 'SC2': 0.191, 'SC3': 0.191},\n",
       " 'POPC': {'NC3': 0.264,\n",
       "  'PO4': 0.264,\n",
       "  'GL1': 0.23,\n",
       "  'GL2': 0.264,\n",
       "  'C1A': 0.264,\n",
       "  'D2A': 0.264,\n",
       "  'C3A': 0.264,\n",
       "  'C4A': 0.264,\n",
       "  'C1B': 0.264,\n",
       "  'C2B': 0.264,\n",
       "  'C3B': 0.264,\n",
       "  'C4B': 0.264},\n",
       " 'POPE': {'NH3': 0.264,\n",
       "  'PO4': 0.264,\n",
       "  'GL1': 0.23,\n",
       "  'GL2': 0.264,\n",
       "  'C1A': 0.264,\n",
       "  'D2A': 0.264,\n",
       "  'C3A': 0.264,\n",
       "  'C4A': 0.264,\n",
       "  'C1B': 0.264,\n",
       "  'C2B': 0.264,\n",
       "  'C3B': 0.264,\n",
       "  'C4B': 0.264},\n",
       " 'POPS': {'CNO': 0.264,\n",
       "  'PO4': 0.264,\n",
       "  'GL1': 0.23,\n",
       "  'GL2': 0.264,\n",
       "  'C1A': 0.264,\n",
       "  'D2A': 0.264,\n",
       "  'C3A': 0.264,\n",
       "  'C4A': 0.264,\n",
       "  'C1B': 0.264,\n",
       "  'C2B': 0.264,\n",
       "  'C3B': 0.264,\n",
       "  'C4B': 0.264},\n",
       " 'PRO': {'BB': 0.23, 'SC1': 0.23},\n",
       " 'SAP2': {'C1': 0.23,\n",
       "  'C2': 0.23,\n",
       "  'C3': 0.23,\n",
       "  'C4': 0.191,\n",
       "  'PO4': 0.264,\n",
       "  'P3': 0.264,\n",
       "  'P4': 0.264,\n",
       "  'GL1': 0.23,\n",
       "  'GL2': 0.264,\n",
       "  'D1A': 0.264,\n",
       "  'D2A': 0.264,\n",
       "  'D3A': 0.264,\n",
       "  'D4A': 0.264,\n",
       "  'C5A': 0.264,\n",
       "  'C1B': 0.264,\n",
       "  'C2B': 0.264,\n",
       "  'C3B': 0.264,\n",
       "  'C4B': 0.264},\n",
       " 'SER': {'BB': 0.264, 'SC1': 0.191},\n",
       " 'THR': {'BB': 0.264, 'SC1': 0.23},\n",
       " 'TRP': {'BB': 0.264,\n",
       "  'SC1': 0.191,\n",
       "  'SC2': 0.191,\n",
       "  'SC3': 0.191,\n",
       "  'SC4': 0.191,\n",
       "  'SC5': 0.191},\n",
       " 'TYR': {'BB': 0.264, 'SC1': 0.191, 'SC2': 0.191, 'SC3': 0.191, 'SC4': 0.191},\n",
       " 'VAL': {'BB': 0.23, 'SC1': 0.23},\n",
       " 'W': {'W': 0.264}}"
      ]
     },
     "execution_count": 82,
     "metadata": {},
     "output_type": "execute_result"
    }
   ],
   "source": [
    "Dict_all"
   ]
  },
  {
   "cell_type": "code",
   "execution_count": null,
   "id": "4b73c686-d5f2-48f2-8b0d-7b6c25e777f8",
   "metadata": {},
   "outputs": [],
   "source": []
  }
 ],
 "metadata": {
  "kernelspec": {
   "display_name": "python36",
   "language": "python",
   "name": "python36"
  },
  "language_info": {
   "codemirror_mode": {
    "name": "ipython",
    "version": 3
   },
   "file_extension": ".py",
   "mimetype": "text/x-python",
   "name": "python",
   "nbconvert_exporter": "python",
   "pygments_lexer": "ipython3",
   "version": "3.6.15"
  }
 },
 "nbformat": 4,
 "nbformat_minor": 5
}
