{
 "cells": [
  {
   "cell_type": "markdown",
   "id": "0e104544",
   "metadata": {},
   "source": [
    "#### We apply ccmap asa computations to a trajectory and compare numbers to gromacs equivalent located at `./CG/resarea_SASA.xvg`\n",
    "\n",
    "###### MAX SASA from [wikipedia](https://en.wikipedia.org/wiki/Relative_accessible_surface_area) areas are in $A^2$\n",
    "---\n",
    "|Residue|Tien et al. 2013 (theor.)[1]|Tien et al. 2013 (emp.)[1]|Miller et al. 1987[2]|Rose et al. 1985[3]|\n",
    "| --- | ---- | --- | --- | --- |\n",
    "|Alanine|129.0|121.0|113.0|118.1|\n",
    "|Arginine|274.0|265.0|241.0|256.0|\n",
    "|Asparagine|195.0|187.0|158.0|165.5|\n",
    "|Aspartate|193.0|187.0|151.0|158.7|\n",
    "|Cysteine|167.0|148.0|140.0|146.1|\n",
    "|Glutamate|223.0|214.0|183.0|186.2|\n",
    "|Glutamine|225.0|214.0|189.0|193.2|\n",
    "|Glycine|104.0|97.0|85.0|88.1|\n",
    "|Histidine|224.0|216.0|194.0|202.5|\n",
    "|Isoleucine|197.0|195.0|182.0|181.0|\n",
    "|Leucine|201.0|191.0|180.0|193.1|\n",
    "|Lysine|236.0|230.0|211.0|225.8|\n",
    "|Methionine|224.0|203.0|204.0|203.4|\n",
    "|Phenylalanine|240.0|228.0|218.0|222.8|\n",
    "|Proline|159.0|154.0|143.0|146.8|\n",
    "|Serine|155.0|143.0|122.0|129.8|\n",
    "|Threonine|172.0|163.0|146.0|152.5|\n",
    "|Tryptophan|285.0|264.0|259.0|266.3|\n",
    "|Tyrosine|263.0|255.0|229.0|236.8|\n",
    "|Valine|174.0|165.0|160.0|164.5|\n"
   ]
  },
  {
   "cell_type": "code",
   "execution_count": 1,
   "id": "aa983780",
   "metadata": {},
   "outputs": [],
   "source": [
    "import MDAnalysis as md\n",
    "import numpy as np\n",
    "from pcmap.sasa import compute_multi_sasa_from_frame"
   ]
  },
  {
   "cell_type": "markdown",
   "id": "8e040605-6bbc-430d-be90-b4493a852364",
   "metadata": {},
   "source": [
    "#### Load in the coarse grained simulation given a tpr/gro/pdb and the corresponding xtc file "
   ]
  },
  {
   "cell_type": "code",
   "execution_count": 12,
   "id": "d37e5e9c-2688-4b30-9f17-44637e11f5b4",
   "metadata": {},
   "outputs": [],
   "source": [
    "## Relative long simulation, can take time to load in\n",
    "ucg = md.Universe('../LSB_data/SPC_L11_CG_2.tpr', '../LSB_data/SPC_L11_CG_1_whole_skip100.xtc')\n"
   ]
  },
  {
   "cell_type": "code",
   "execution_count": 19,
   "id": "dc179f28",
   "metadata": {},
   "outputs": [
    {
     "name": "stdout",
     "output_type": "stream",
     "text": [
      "Generating vdw_map from trajectory...\n",
      "Computing SASA w/ a 1.91A radius probe over a total of 10001 snapshots of 425 particules each \n"
     ]
    },
    {
     "name": "stderr",
     "output_type": "stream",
     "text": [
      "10100it [02:36, 64.73it/s]                                                                                                                    \n"
     ]
    },
    {
     "name": "stdout",
     "output_type": "stream",
     "text": [
      "Compiling results over 0 snapshots\n"
     ]
    },
    {
     "name": "stderr",
     "output_type": "stream",
     "text": [
      "10001it [02:01, 82.04it/s]\n"
     ]
    }
   ],
   "source": [
    "sasa_res = compute_multi_sasa_from_frame(ucg,\\\n",
    "           chunk_sz=100, selector=\"segid seg_0_A\", probe=1.91) # buggy display over all frames, let's try w/ redudec count\n",
    "\n"
   ]
  },
  {
   "cell_type": "code",
   "execution_count": 16,
   "id": "f71699f9",
   "metadata": {},
   "outputs": [
    {
     "name": "stdout",
     "output_type": "stream",
     "text": [
      "10001 179\n",
      "1790179\n"
     ]
    }
   ],
   "source": [
    "print(sasa_res.nframe, sasa_res.nresidue)\n",
    "print(len(sasa_res.sasa))\n",
    "\n",
    "stats = sasa_res.stats()"
   ]
  },
  {
   "cell_type": "code",
   "execution_count": 17,
   "id": "4422420b",
   "metadata": {},
   "outputs": [
    {
     "data": {
      "text/plain": [
       "[(('MET', '1', 'seg_0_A'), 199.50884176719046, 32.19732416312361),\n",
       " (('LEU', '2', 'seg_0_A'), 96.64482562669026, 22.103394730022536),\n",
       " (('SER', '3', 'seg_0_A'), 73.60822419650125, 9.833547484916833),\n",
       " (('LEU', '4', 'seg_0_A'), 107.51350806386647, 9.257823105130694),\n",
       " (('ASP', '5', 'seg_0_A'), 58.093434226523634, 22.188163538947418),\n",
       " (('PHE', '6', 'seg_0_A'), 112.38561162194327, 34.700454821883234),\n",
       " (('LEU', '7', 'seg_0_A'), 86.57584562893808, 8.303407542226834),\n",
       " (('ASP', '8', 'seg_0_A'), 67.18626896465626, 9.22480982359553),\n",
       " (('ASP', '9', 'seg_0_A'), 23.85133524611406, 13.043187991580757),\n",
       " (('VAL', '10', 'seg_0_A'), 59.534486471396804, 10.966410261189353),\n",
       " (('ARG', '11', 'seg_0_A'), 206.38603285972673, 13.862049530280323),\n",
       " (('ARG', '12', 'seg_0_A'), 138.81776121093947, 14.9715818108505),\n",
       " (('MET', '13', 'seg_0_A'), 54.07863510829093, 17.064579635286375),\n",
       " (('ASN', '14', 'seg_0_A'), 84.82637256293901, 14.501828360564895),\n",
       " (('LYS', '15', 'seg_0_A'), 163.2827887682423, 14.18759462877491),\n",
       " (('ARG', '16', 'seg_0_A'), 159.3562641965784, 18.13836494889894),\n",
       " (('GLN', '17', 'seg_0_A'), 47.675610264901245, 23.909222828340937),\n",
       " (('LEU', '18', 'seg_0_A'), 52.41016505954385, 9.997744437499575),\n",
       " (('TYR', '19', 'seg_0_A'), 119.5347099506358, 19.792286473798082),\n",
       " (('TYR', '20', 'seg_0_A'), 113.14269994509338, 23.788421755603064),\n",
       " (('GLN', '21', 'seg_0_A'), 24.96243598906711, 11.0565477338774),\n",
       " (('VAL', '22', 'seg_0_A'), 74.35356409732562, 8.71953755395263),\n",
       " (('LEU', '23', 'seg_0_A'), 85.15760542781172, 11.675465250105011),\n",
       " (('ASN', '24', 'seg_0_A'), 61.27144485868796, 24.839606481643152),\n",
       " (('PHE', '25', 'seg_0_A'), 102.13219420855766, 23.527309129810327)]"
      ]
     },
     "execution_count": 17,
     "metadata": {},
     "output_type": "execute_result"
    }
   ],
   "source": [
    "stats[:25]"
   ]
  },
  {
   "cell_type": "code",
   "execution_count": 18,
   "id": "c919d99b",
   "metadata": {},
   "outputs": [
    {
     "data": {
      "text/plain": [
       "[(('LEU', '155', 'seg_0_A'), 56.93792168024409, 11.169732214162222),\n",
       " (('MET', '156', 'seg_0_A'), 62.35412525641967, 13.584524261396492),\n",
       " (('ASN', '157', 'seg_0_A'), 98.48964898737177, 21.450061528479598),\n",
       " (('ASP', '158', 'seg_0_A'), 84.73746713158275, 18.835545230279855),\n",
       " (('TYR', '159', 'seg_0_A'), 146.4818952614016, 23.64892903672149),\n",
       " (('PRO', '160', 'seg_0_A'), 59.225602717438214, 10.421173511588583),\n",
       " (('LYS', '161', 'seg_0_A'), 140.22129667831555, 16.646836568658383),\n",
       " (('PHE', '162', 'seg_0_A'), 90.0784068809916, 13.908298352374919),\n",
       " (('LYS', '163', 'seg_0_A'), 80.63018400918698, 12.549848665977875),\n",
       " (('TYR', '164', 'seg_0_A'), 157.66269979447367, 14.387749011395115),\n",
       " (('ALA', '165', 'seg_0_A'), 52.22151373119524, 6.903688838168883),\n",
       " (('VAL', '166', 'seg_0_A'), 32.862152175895694, 9.116108904359738),\n",
       " (('LEU', '167', 'seg_0_A'), 93.4351786714639, 16.945843876327064),\n",
       " (('PHE', '168', 'seg_0_A'), 161.82082840910246, 14.627542606664512),\n",
       " (('LEU', '169', 'seg_0_A'), 95.39557964979869, 9.103497924113721),\n",
       " (('LEU', '170', 'seg_0_A'), 89.7036186701154, 15.351382252599644),\n",
       " (('GLY', '171', 'seg_0_A'), 23.52148285995375, 12.842901248515215),\n",
       " (('LEU', '172', 'seg_0_A'), 68.22721887357163, 12.488387576219987),\n",
       " (('PHE', '173', 'seg_0_A'), 144.9880804705174, 21.438734295492242),\n",
       " (('VAL', '174', 'seg_0_A'), 28.219625184088038, 12.939310495421816),\n",
       " (('LEU', '175', 'seg_0_A'), 86.43793254951848, 33.890754991824394),\n",
       " (('VAL', '176', 'seg_0_A'), 45.142667584437845, 24.539550175506836),\n",
       " (('HIS', '177', 'seg_0_A'), 97.17437792353577, 46.93705341026251),\n",
       " (('ARG', '178', 'seg_0_A'), 43.189943792485984, 20.697787598820838),\n",
       " (('GLU', '179', 'seg_0_A'), 202.11874585551698, 20.097140407453075)]"
      ]
     },
     "execution_count": 18,
     "metadata": {},
     "output_type": "execute_result"
    }
   ],
   "source": [
    "stats[-25:]"
   ]
  },
  {
   "cell_type": "code",
   "execution_count": null,
   "id": "7febfe4b",
   "metadata": {},
   "outputs": [],
   "source": []
  }
 ],
 "metadata": {
  "kernelspec": {
   "display_name": "pcmap_DARWIN",
   "language": "python",
   "name": "pcmap_darwin"
  },
  "language_info": {
   "codemirror_mode": {
    "name": "ipython",
    "version": 3
   },
   "file_extension": ".py",
   "mimetype": "text/x-python",
   "name": "python",
   "nbconvert_exporter": "python",
   "pygments_lexer": "ipython3",
   "version": "3.9.7"
  }
 },
 "nbformat": 4,
 "nbformat_minor": 5
}
