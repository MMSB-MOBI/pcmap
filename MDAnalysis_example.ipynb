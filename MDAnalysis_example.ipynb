{
 "cells": [
  {
   "cell_type": "markdown",
   "id": "0e104544",
   "metadata": {},
   "source": [
    "#### We apply ccmap asa computations to a trajectory and compare numbers to gromacs equivalent located at `./CG/resarea_SASA.xvg`\n",
    "\n",
    "###### MAX SASA from [wikipedia](https://en.wikipedia.org/wiki/Relative_accessible_surface_area) areas are in $A^2$\n",
    "---\n",
    "|Residue|Tien et al. 2013 (theor.)[1]|Tien et al. 2013 (emp.)[1]|Miller et al. 1987[2]|Rose et al. 1985[3]|\n",
    "| --- | ---- | --- | --- | --- |\n",
    "|Alanine|129.0|121.0|113.0|118.1|\n",
    "|Arginine|274.0|265.0|241.0|256.0|\n",
    "|Asparagine|195.0|187.0|158.0|165.5|\n",
    "|Aspartate|193.0|187.0|151.0|158.7|\n",
    "|Cysteine|167.0|148.0|140.0|146.1|\n",
    "|Glutamate|223.0|214.0|183.0|186.2|\n",
    "|Glutamine|225.0|214.0|189.0|193.2|\n",
    "|Glycine|104.0|97.0|85.0|88.1|\n",
    "|Histidine|224.0|216.0|194.0|202.5|\n",
    "|Isoleucine|197.0|195.0|182.0|181.0|\n",
    "|Leucine|201.0|191.0|180.0|193.1|\n",
    "|Lysine|236.0|230.0|211.0|225.8|\n",
    "|Methionine|224.0|203.0|204.0|203.4|\n",
    "|Phenylalanine|240.0|228.0|218.0|222.8|\n",
    "|Proline|159.0|154.0|143.0|146.8|\n",
    "|Serine|155.0|143.0|122.0|129.8|\n",
    "|Threonine|172.0|163.0|146.0|152.5|\n",
    "|Tryptophan|285.0|264.0|259.0|266.3|\n",
    "|Tyrosine|263.0|255.0|229.0|236.8|\n",
    "|Valine|174.0|165.0|160.0|164.5|\n"
   ]
  },
  {
   "cell_type": "code",
   "execution_count": 1,
   "id": "aa983780",
   "metadata": {},
   "outputs": [],
   "source": [
    "import MDAnalysis as md\n",
    "import numpy as np\n",
    "from pcmap.sasa import compute_multi_sasa_from_frame"
   ]
  },
  {
   "cell_type": "markdown",
   "id": "8e040605-6bbc-430d-be90-b4493a852364",
   "metadata": {},
   "source": [
    "#### Load in the coarse grained simulation given a tpr/gro/pdb and the corresponding xtc file "
   ]
  },
  {
   "cell_type": "code",
   "execution_count": 2,
   "id": "d37e5e9c-2688-4b30-9f17-44637e11f5b4",
   "metadata": {},
   "outputs": [],
   "source": [
    "## Relative long simulation, can take time to load in\n",
    "ucg = md.Universe('../LSB_data/SPC_L11_CG_2.tpr', '../LSB_data/SPC_L11_CG_1_whole_skip100.xtc')"
   ]
  },
  {
   "cell_type": "code",
   "execution_count": 3,
   "id": "dc179f28",
   "metadata": {},
   "outputs": [
    {
     "name": "stdout",
     "output_type": "stream",
     "text": [
      "Generating vdw_map from trajectory...\n",
      "Processing a total of 10001 snapshots of 425 particules each \n"
     ]
    },
    {
     "name": "stderr",
     "output_type": "stream",
     "text": [
      "10025it [02:17, 72.81it/s]                                                      \n"
     ]
    },
    {
     "name": "stdout",
     "output_type": "stream",
     "text": [
      "Compiling results\n"
     ]
    },
    {
     "name": "stderr",
     "output_type": "stream",
     "text": [
      "10001it [02:12, 75.36it/s]\n"
     ]
    }
   ],
   "source": [
    "sasa_res = compute_multi_sasa_from_frame(ucg, chunk_sz=25, selector=\"segid seg_0_A\") # buggy display over all frames, let's try w/ redudec count"
   ]
  },
  {
   "cell_type": "code",
   "execution_count": 4,
   "id": "f71699f9",
   "metadata": {},
   "outputs": [
    {
     "name": "stdout",
     "output_type": "stream",
     "text": [
      "10001 179\n",
      "1790179\n"
     ]
    }
   ],
   "source": [
    "print(sasa_res.nframe, sasa_res.nresidue)\n",
    "print(len(sasa_res.sasa))\n",
    "\n",
    "stats = sasa_res.stats()"
   ]
  },
  {
   "cell_type": "code",
   "execution_count": 5,
   "id": "4422420b",
   "metadata": {},
   "outputs": [
    {
     "data": {
      "text/plain": [
       "[(('MET', '1', 'seg_0_A'), 182.39233195515897, 25.537219784328613),\n",
       " (('LEU', '2', 'seg_0_A'), 92.45650139881032, 18.746538725949343),\n",
       " (('SER', '3', 'seg_0_A'), 69.0357728066915, 8.41999249743117),\n",
       " (('LEU', '4', 'seg_0_A'), 99.58164943698502, 8.388749384400677),\n",
       " (('ASP', '5', 'seg_0_A'), 63.19931184371797, 19.815233237042044),\n",
       " (('PHE', '6', 'seg_0_A'), 113.78135333134168, 31.149199112723498),\n",
       " (('LEU', '7', 'seg_0_A'), 82.42506579725328, 7.45530223545183),\n",
       " (('ASP', '8', 'seg_0_A'), 66.8569812482863, 7.801380796888453),\n",
       " (('ASP', '9', 'seg_0_A'), 33.47304333897665, 14.236002771035073),\n",
       " (('VAL', '10', 'seg_0_A'), 59.03761478100237, 9.60589851607407),\n",
       " (('ARG', '11', 'seg_0_A'), 186.01737618901683, 12.3576326675108),\n",
       " (('ARG', '12', 'seg_0_A'), 132.49210434791482, 12.880167528322733),\n",
       " (('MET', '13', 'seg_0_A'), 57.66019519569039, 14.390057151691861),\n",
       " (('ASN', '14', 'seg_0_A'), 82.39250506712024, 12.57971858611121),\n",
       " (('LYS', '15', 'seg_0_A'), 146.8865913793142, 12.77543527158692),\n",
       " (('ARG', '16', 'seg_0_A'), 146.36374032579653, 15.716644109727017),\n",
       " (('GLN', '17', 'seg_0_A'), 52.148782433158054, 24.174579061317),\n",
       " (('LEU', '18', 'seg_0_A'), 52.77639129092462, 9.275056107982895),\n",
       " (('TYR', '19', 'seg_0_A'), 117.36674682751452, 18.497805532392587),\n",
       " (('TYR', '20', 'seg_0_A'), 113.94071046996862, 21.007020796217315),\n",
       " (('GLN', '21', 'seg_0_A'), 37.35153456089938, 11.095739136919578),\n",
       " (('VAL', '22', 'seg_0_A'), 72.76138663294316, 7.394294910216234),\n",
       " (('LEU', '23', 'seg_0_A'), 85.41181102074118, 10.148322258926873),\n",
       " (('ASN', '24', 'seg_0_A'), 67.20818105872519, 23.561752146124753),\n",
       " (('PHE', '25', 'seg_0_A'), 107.55856933227575, 22.876764306070207)]"
      ]
     },
     "execution_count": 5,
     "metadata": {},
     "output_type": "execute_result"
    }
   ],
   "source": [
    "stats[:25]"
   ]
  },
  {
   "cell_type": "code",
   "execution_count": null,
   "id": "c919d99b",
   "metadata": {},
   "outputs": [],
   "source": []
  }
 ],
 "metadata": {
  "kernelspec": {
   "display_name": "pcmap_DARWIN",
   "language": "python",
   "name": "pcmap_darwin"
  },
  "language_info": {
   "codemirror_mode": {
    "name": "ipython",
    "version": 3
   },
   "file_extension": ".py",
   "mimetype": "text/x-python",
   "name": "python",
   "nbconvert_exporter": "python",
   "pygments_lexer": "ipython3",
   "version": "3.9.7"
  }
 },
 "nbformat": 4,
 "nbformat_minor": 5
}
