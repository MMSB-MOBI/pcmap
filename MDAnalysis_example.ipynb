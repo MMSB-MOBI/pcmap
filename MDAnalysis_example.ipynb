{
 "cells": [
  {
   "cell_type": "markdown",
   "id": "0e104544",
   "metadata": {},
   "source": [
    "#### We apply ccmap asa computations to a trajectory and compare numbers to gromacs equivalent located at `./CG/resarea_SASA.xvg`\n",
    "\n",
    "###### MAX SASA from [wikipedia](https://en.wikipedia.org/wiki/Relative_accessible_surface_area) areas are in $A^2$\n",
    "---\n",
    "|Residue|Tien et al. 2013 (theor.)[1]|Tien et al. 2013 (emp.)[1]|Miller et al. 1987[2]|Rose et al. 1985[3]|\n",
    "| --- | ---- | --- | --- | --- |\n",
    "|Alanine|129.0|121.0|113.0|118.1|\n",
    "|Arginine|274.0|265.0|241.0|256.0|\n",
    "|Asparagine|195.0|187.0|158.0|165.5|\n",
    "|Aspartate|193.0|187.0|151.0|158.7|\n",
    "|Cysteine|167.0|148.0|140.0|146.1|\n",
    "|Glutamate|223.0|214.0|183.0|186.2|\n",
    "|Glutamine|225.0|214.0|189.0|193.2|\n",
    "|Glycine|104.0|97.0|85.0|88.1|\n",
    "|Histidine|224.0|216.0|194.0|202.5|\n",
    "|Isoleucine|197.0|195.0|182.0|181.0|\n",
    "|Leucine|201.0|191.0|180.0|193.1|\n",
    "|Lysine|236.0|230.0|211.0|225.8|\n",
    "|Methionine|224.0|203.0|204.0|203.4|\n",
    "|Phenylalanine|240.0|228.0|218.0|222.8|\n",
    "|Proline|159.0|154.0|143.0|146.8|\n",
    "|Serine|155.0|143.0|122.0|129.8|\n",
    "|Threonine|172.0|163.0|146.0|152.5|\n",
    "|Tryptophan|285.0|264.0|259.0|266.3|\n",
    "|Tyrosine|263.0|255.0|229.0|236.8|\n",
    "|Valine|174.0|165.0|160.0|164.5|\n"
   ]
  },
  {
   "cell_type": "code",
   "execution_count": 1,
   "id": "aa983780",
   "metadata": {},
   "outputs": [],
   "source": [
    "import MDAnalysis as md\n",
    "import numpy as np\n",
    "from pcmap.sasa import compute_multi_sasa_from_frame"
   ]
  },
  {
   "cell_type": "markdown",
   "id": "8e040605-6bbc-430d-be90-b4493a852364",
   "metadata": {},
   "source": [
    "#### Load in the coarse grained simulation given a tpr/gro/pdb and the corresponding xtc file "
   ]
  },
  {
   "cell_type": "code",
   "execution_count": 2,
   "id": "d37e5e9c-2688-4b30-9f17-44637e11f5b4",
   "metadata": {},
   "outputs": [],
   "source": [
    "## Relative long simulation, can take time to load in\n",
    "ucg = md.Universe('../LSB_data/SPC_L11_CG_2.tpr', '../LSB_data/SPC_L11_CG_1_whole_skip100.xtc')\n",
    "\n"
   ]
  },
  {
   "cell_type": "code",
   "execution_count": 3,
   "id": "dc179f28",
   "metadata": {},
   "outputs": [
    {
     "name": "stdout",
     "output_type": "stream",
     "text": [
      "Generating vdw_map from trajectory...\n",
      "HighResolution:: Computing SASA w/ a 1.91A radius probe over a total of 10001 snapshots of 425 particles each \n"
     ]
    },
    {
     "name": "stderr",
     "output_type": "stream",
     "text": [
      "  0%|                                                              | 0/10001 [00:14<?, ?it/s]\n"
     ]
    },
    {
     "ename": "AttributeError",
     "evalue": "module 'ccmap' has no attribute 'sasa_multi_mda_np_arrays'",
     "output_type": "error",
     "traceback": [
      "\u001b[0;31m---------------------------------------------------------------------------\u001b[0m",
      "\u001b[0;31mAttributeError\u001b[0m                            Traceback (most recent call last)",
      "Cell \u001b[0;32mIn[3], line 1\u001b[0m\n\u001b[0;32m----> 1\u001b[0m sasa_res \u001b[38;5;241m=\u001b[39m \u001b[43mcompute_multi_sasa_from_frame\u001b[49m\u001b[43m(\u001b[49m\u001b[43mucg\u001b[49m\u001b[43m,\u001b[49m\u001b[43m\\\u001b[49m\n\u001b[1;32m      2\u001b[0m \u001b[43m           \u001b[49m\u001b[43mchunk_sz\u001b[49m\u001b[38;5;241;43m=\u001b[39;49m\u001b[38;5;241;43m100\u001b[39;49m\u001b[43m,\u001b[49m\u001b[43m \u001b[49m\u001b[43mselector\u001b[49m\u001b[38;5;241;43m=\u001b[39;49m\u001b[38;5;124;43m\"\u001b[39;49m\u001b[38;5;124;43msegid seg_0_A\u001b[39;49m\u001b[38;5;124;43m\"\u001b[39;49m\u001b[43m,\u001b[49m\u001b[43m \u001b[49m\u001b[43mprobe\u001b[49m\u001b[38;5;241;43m=\u001b[39;49m\u001b[38;5;241;43m1.91\u001b[39;49m\u001b[43m,\u001b[49m\u001b[43m \u001b[49m\u001b[43mhres\u001b[49m\u001b[38;5;241;43m=\u001b[39;49m\u001b[38;5;28;43;01mTrue\u001b[39;49;00m\u001b[43m)\u001b[49m\n",
      "File \u001b[0;32m~/work/projects/ccmap/pcmap_sasa_integration/pcmap_DARWIN/pcmap/sasa/__init__.py:11\u001b[0m, in \u001b[0;36mcompute_multi_sasa_from_frame\u001b[0;34m(frame, npos, step, selector, chunk_sz, probe, ncpu, hres)\u001b[0m\n\u001b[1;32m     10\u001b[0m \u001b[38;5;28;01mdef\u001b[39;00m \u001b[38;5;21mcompute_multi_sasa_from_frame\u001b[39m(frame:Universe, npos\u001b[38;5;241m=\u001b[39m\u001b[38;5;28;01mNone\u001b[39;00m, step\u001b[38;5;241m=\u001b[39m\u001b[38;5;241m1\u001b[39m, selector\u001b[38;5;241m=\u001b[39m\u001b[38;5;124m\"\u001b[39m\u001b[38;5;124mall\u001b[39m\u001b[38;5;124m\"\u001b[39m, chunk_sz\u001b[38;5;241m=\u001b[39m\u001b[38;5;241m5\u001b[39m, probe\u001b[38;5;241m=\u001b[39m\u001b[38;5;241m1.4\u001b[39m, ncpu\u001b[38;5;241m=\u001b[39m\u001b[38;5;241m8\u001b[39m, hres\u001b[38;5;241m=\u001b[39m\u001b[38;5;28;01mFalse\u001b[39;00m):\n\u001b[0;32m---> 11\u001b[0m     _ \u001b[38;5;241m=\u001b[39m \u001b[43mcompute_sasa_frame\u001b[49m\u001b[43m(\u001b[49m\u001b[43mframe\u001b[49m\u001b[43m,\u001b[49m\u001b[43m \u001b[49m\u001b[43mnpos\u001b[49m\u001b[43m,\u001b[49m\u001b[43m \u001b[49m\u001b[43mchunk_sz\u001b[49m\u001b[43m,\u001b[49m\u001b[43m \u001b[49m\u001b[43mprobe\u001b[49m\u001b[43m,\u001b[49m\u001b[43m \u001b[49m\u001b[43mncpu\u001b[49m\u001b[43m,\u001b[49m\u001b[43m \u001b[49m\u001b[43mselector\u001b[49m\u001b[38;5;241;43m=\u001b[39;49m\u001b[43mselector\u001b[49m\u001b[43m,\u001b[49m\u001b[43m \u001b[49m\u001b[43mstep\u001b[49m\u001b[38;5;241;43m=\u001b[39;49m\u001b[43mstep\u001b[49m\u001b[43m,\u001b[49m\u001b[43m \u001b[49m\u001b[43mhres\u001b[49m\u001b[38;5;241;43m=\u001b[39;49m\u001b[43mhres\u001b[49m\u001b[43m)\u001b[49m\n\u001b[1;32m     12\u001b[0m     res \u001b[38;5;241m=\u001b[39m SASA_Results()\n\u001b[1;32m     13\u001b[0m     res\u001b[38;5;241m.\u001b[39mparse(_)\n",
      "File \u001b[0;32m~/work/projects/ccmap/pcmap_sasa_integration/pcmap_DARWIN/pcmap/sasa/generator.py:107\u001b[0m, in \u001b[0;36mrun_with_pbar\u001b[0;34m(mda_universe, max_frame, chunk_size, probe_radius, ncpu, step, hres, **kwargs)\u001b[0m\n\u001b[1;32m    103\u001b[0m results \u001b[38;5;241m=\u001b[39m []\n\u001b[1;32m    104\u001b[0m \u001b[38;5;28;01mfor\u001b[39;00m future \u001b[38;5;129;01min\u001b[39;00m as_completed(futures):\n\u001b[1;32m    105\u001b[0m     \u001b[38;5;66;03m#arg = futures[future]\u001b[39;00m\n\u001b[1;32m    106\u001b[0m     \u001b[38;5;66;03m# future seems to reduce to hash -> a number ?\u001b[39;00m\n\u001b[0;32m--> 107\u001b[0m     results\u001b[38;5;241m.\u001b[39mappend( \u001b[43mfuture\u001b[49m\u001b[38;5;241;43m.\u001b[39;49m\u001b[43mresult\u001b[49m\u001b[43m(\u001b[49m\u001b[43m)\u001b[49m )\n\u001b[1;32m    108\u001b[0m     pbar\u001b[38;5;241m.\u001b[39mupdate(chunk_size)\n\u001b[1;32m    109\u001b[0m pbar\u001b[38;5;241m.\u001b[39mclose()\n",
      "File \u001b[0;32m~/opt/miniconda3/lib/python3.9/concurrent/futures/_base.py:438\u001b[0m, in \u001b[0;36mFuture.result\u001b[0;34m(self, timeout)\u001b[0m\n\u001b[1;32m    436\u001b[0m     \u001b[38;5;28;01mraise\u001b[39;00m CancelledError()\n\u001b[1;32m    437\u001b[0m \u001b[38;5;28;01melif\u001b[39;00m \u001b[38;5;28mself\u001b[39m\u001b[38;5;241m.\u001b[39m_state \u001b[38;5;241m==\u001b[39m FINISHED:\n\u001b[0;32m--> 438\u001b[0m     \u001b[38;5;28;01mreturn\u001b[39;00m \u001b[38;5;28;43mself\u001b[39;49m\u001b[38;5;241;43m.\u001b[39;49m\u001b[43m__get_result\u001b[49m\u001b[43m(\u001b[49m\u001b[43m)\u001b[49m\n\u001b[1;32m    440\u001b[0m \u001b[38;5;28mself\u001b[39m\u001b[38;5;241m.\u001b[39m_condition\u001b[38;5;241m.\u001b[39mwait(timeout)\n\u001b[1;32m    442\u001b[0m \u001b[38;5;28;01mif\u001b[39;00m \u001b[38;5;28mself\u001b[39m\u001b[38;5;241m.\u001b[39m_state \u001b[38;5;129;01min\u001b[39;00m [CANCELLED, CANCELLED_AND_NOTIFIED]:\n",
      "File \u001b[0;32m~/opt/miniconda3/lib/python3.9/concurrent/futures/_base.py:390\u001b[0m, in \u001b[0;36mFuture.__get_result\u001b[0;34m(self)\u001b[0m\n\u001b[1;32m    388\u001b[0m \u001b[38;5;28;01mif\u001b[39;00m \u001b[38;5;28mself\u001b[39m\u001b[38;5;241m.\u001b[39m_exception:\n\u001b[1;32m    389\u001b[0m     \u001b[38;5;28;01mtry\u001b[39;00m:\n\u001b[0;32m--> 390\u001b[0m         \u001b[38;5;28;01mraise\u001b[39;00m \u001b[38;5;28mself\u001b[39m\u001b[38;5;241m.\u001b[39m_exception\n\u001b[1;32m    391\u001b[0m     \u001b[38;5;28;01mfinally\u001b[39;00m:\n\u001b[1;32m    392\u001b[0m         \u001b[38;5;66;03m# Break a reference cycle with the exception in self._exception\u001b[39;00m\n\u001b[1;32m    393\u001b[0m         \u001b[38;5;28mself\u001b[39m \u001b[38;5;241m=\u001b[39m \u001b[38;5;28;01mNone\u001b[39;00m\n",
      "File \u001b[0;32m~/opt/miniconda3/lib/python3.9/concurrent/futures/thread.py:52\u001b[0m, in \u001b[0;36m_WorkItem.run\u001b[0;34m(self)\u001b[0m\n\u001b[1;32m     49\u001b[0m     \u001b[38;5;28;01mreturn\u001b[39;00m\n\u001b[1;32m     51\u001b[0m \u001b[38;5;28;01mtry\u001b[39;00m:\n\u001b[0;32m---> 52\u001b[0m     result \u001b[38;5;241m=\u001b[39m \u001b[38;5;28;43mself\u001b[39;49m\u001b[38;5;241;43m.\u001b[39;49m\u001b[43mfn\u001b[49m\u001b[43m(\u001b[49m\u001b[38;5;241;43m*\u001b[39;49m\u001b[38;5;28;43mself\u001b[39;49m\u001b[38;5;241;43m.\u001b[39;49m\u001b[43margs\u001b[49m\u001b[43m,\u001b[49m\u001b[43m \u001b[49m\u001b[38;5;241;43m*\u001b[39;49m\u001b[38;5;241;43m*\u001b[39;49m\u001b[38;5;28;43mself\u001b[39;49m\u001b[38;5;241;43m.\u001b[39;49m\u001b[43mkwargs\u001b[49m\u001b[43m)\u001b[49m\n\u001b[1;32m     53\u001b[0m \u001b[38;5;28;01mexcept\u001b[39;00m \u001b[38;5;167;01mBaseException\u001b[39;00m \u001b[38;5;28;01mas\u001b[39;00m exc:\n\u001b[1;32m     54\u001b[0m     \u001b[38;5;28mself\u001b[39m\u001b[38;5;241m.\u001b[39mfuture\u001b[38;5;241m.\u001b[39mset_exception(exc)\n",
      "File \u001b[0;32m~/work/projects/ccmap/pcmap_sasa_integration/pcmap_DARWIN/pcmap/sasa/generator.py:61\u001b[0m, in \u001b[0;36msasa_frame_task\u001b[0;34m(*_args)\u001b[0m\n\u001b[1;32m     59\u001b[0m \u001b[38;5;28;01mdef\u001b[39;00m \u001b[38;5;21msasa_frame_task\u001b[39m(\u001b[38;5;241m*\u001b[39m_args):\n\u001b[1;32m     60\u001b[0m     args\u001b[38;5;241m=\u001b[39m_args[\u001b[38;5;241m0\u001b[39m]\n\u001b[0;32m---> 61\u001b[0m     data \u001b[38;5;241m=\u001b[39m \u001b[43mccmap\u001b[49m\u001b[38;5;241;43m.\u001b[39;49m\u001b[43msasa_multi_mda_np_arrays\u001b[49m(\u001b[38;5;241m*\u001b[39margs[:\u001b[38;5;241m5\u001b[39m], rtype\u001b[38;5;241m=\u001b[39margs[\u001b[38;5;241m5\u001b[39m], probe\u001b[38;5;241m=\u001b[39margs[\u001b[38;5;241m6\u001b[39m], hres\u001b[38;5;241m=\u001b[39margs[\u001b[38;5;241m7\u001b[39m])\n\u001b[1;32m     63\u001b[0m     \u001b[38;5;28;01mreturn\u001b[39;00m data\n",
      "\u001b[0;31mAttributeError\u001b[0m: module 'ccmap' has no attribute 'sasa_multi_mda_np_arrays'"
     ]
    }
   ],
   "source": [
    "sasa_res = compute_multi_sasa_from_frame(ucg,\\\n",
    "           chunk_sz=100, selector=\"segid seg_0_A\", probe=1.91, hres=True)\n",
    "\n"
   ]
  },
  {
   "cell_type": "code",
   "execution_count": null,
   "id": "f71699f9",
   "metadata": {},
   "outputs": [],
   "source": [
    "print(sasa_res.nframe, sasa_res.nresidue)\n",
    "print(len(sasa_res.sasa))\n",
    "\n",
    "stats = sasa_res.stats()"
   ]
  },
  {
   "cell_type": "code",
   "execution_count": null,
   "id": "4422420b",
   "metadata": {},
   "outputs": [],
   "source": [
    "stats[:25]"
   ]
  },
  {
   "cell_type": "code",
   "execution_count": null,
   "id": "c919d99b",
   "metadata": {},
   "outputs": [],
   "source": [
    "stats[-25:]"
   ]
  },
  {
   "cell_type": "code",
   "execution_count": null,
   "id": "7febfe4b",
   "metadata": {},
   "outputs": [],
   "source": []
  }
 ],
 "metadata": {
  "kernelspec": {
   "display_name": "pcmap_DARWIN",
   "language": "python",
   "name": "pcmap_darwin"
  },
  "language_info": {
   "codemirror_mode": {
    "name": "ipython",
    "version": 3
   },
   "file_extension": ".py",
   "mimetype": "text/x-python",
   "name": "python",
   "nbconvert_exporter": "python",
   "pygments_lexer": "ipython3",
   "version": "3.9.7"
  }
 },
 "nbformat": 4,
 "nbformat_minor": 5
}
